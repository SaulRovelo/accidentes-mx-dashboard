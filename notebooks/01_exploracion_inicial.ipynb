{
 "cells": [
  {
   "cell_type": "markdown",
   "id": "3b5790c4",
   "metadata": {},
   "source": [
    "# Análisis de Datos de Hechos de Tránsito 2024\n",
    "\n",
    "Este notebook tiene como objetivo explorar y analizar el conjunto de datos correspondiente a los hechos de tránsito ocurridos en el año 2024. Las tareas principales incluyen:\n",
    "\n",
    "- Carga y visualización inicial del dataset.\n",
    "- Inspección de la estructura de los datos (columnas, tipos de datos, valores nulos).\n",
    "- Obtención de estadísticas descriptivas.\n",
    "- Preparación para futuros análisis, como detección de patrones, limpieza y visualización de datos.\n",
    "\n",
    "El análisis busca proporcionar una base sólida para comprender la naturaleza de los incidentes de tránsito reportados y facilitar una posterior toma de decisiones o generación de reportes.\n"
   ]
  },
  {
   "cell_type": "code",
   "execution_count": null,
   "id": "2011540c",
   "metadata": {},
   "outputs": [],
   "source": [
    "# Importamos la librería pandas con el alias 'pd' para el manejo de datos\n",
    "import pandas as pd\n",
    "\n",
    "# Definimos la ruta del archivo CSV que contiene los datos acumulados de hechos de tránsito de 2024\n",
    "ruta = '../data/accidentes_cdmx.csv'\n",
    "\n",
    "# Leemos el archivo CSV y lo cargamos en un DataFrame llamado 'df'\n",
    "df = pd.read_csv(ruta)"
   ]
  },
  {
   "cell_type": "code",
   "execution_count": null,
   "id": "f4ba71c9",
   "metadata": {},
   "outputs": [],
   "source": [
    "# Mostramos nuevamente las primeras 5 filas del DataFrame\n",
    "df.head()"
   ]
  },
  {
   "cell_type": "code",
   "execution_count": null,
   "id": "f012c516",
   "metadata": {},
   "outputs": [],
   "source": [
    "# Mostramos el nombre de todas las columnas del DataFrame\n",
    "df.columns"
   ]
  },
  {
   "cell_type": "code",
   "execution_count": null,
   "id": "6c73592a",
   "metadata": {},
   "outputs": [],
   "source": [
    "# Mostramos los tipos de datos de cada columna (por ejemplo: int, float, object, etc.)\n",
    "df.dtypes"
   ]
  },
  {
   "cell_type": "code",
   "execution_count": null,
   "id": "c7042a0e",
   "metadata": {},
   "outputs": [],
   "source": [
    "# Mostramos la cantidad de valores nulos (NaN) por cada columna\n",
    "df.isnull().sum()"
   ]
  },
  {
   "cell_type": "code",
   "execution_count": null,
   "id": "dd86f814",
   "metadata": {},
   "outputs": [],
   "source": [
    "# Mostramos estadísticas descriptivas de todas las columnas, incluyendo categóricas y numéricas\n",
    "df.describe(include='all')"
   ]
  }
 ],
 "metadata": {
  "kernelspec": {
   "display_name": "venv",
   "language": "python",
   "name": "python3"
  },
  "language_info": {
   "codemirror_mode": {
    "name": "ipython",
    "version": 3
   },
   "file_extension": ".py",
   "mimetype": "text/x-python",
   "name": "python",
   "nbconvert_exporter": "python",
   "pygments_lexer": "ipython3",
   "version": "3.11.4"
  }
 },
 "nbformat": 4,
 "nbformat_minor": 5
}
